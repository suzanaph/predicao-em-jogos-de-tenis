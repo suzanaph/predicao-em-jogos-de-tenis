{
 "cells": [
  {
   "cell_type": "markdown",
   "metadata": {},
   "source": [
    "# Data Wrangling - Matches Database"
   ]
  },
  {
   "cell_type": "code",
   "execution_count": 47,
   "metadata": {},
   "outputs": [],
   "source": [
    "import pandas as pd"
   ]
  },
  {
   "cell_type": "code",
   "execution_count": 48,
   "metadata": {},
   "outputs": [],
   "source": [
    "df_match= pd.read_csv(\"atp_matches.csv\", sep=';') "
   ]
  },
  {
   "cell_type": "markdown",
   "metadata": {},
   "source": [
    "### 1. Ajuste de tipo de dado"
   ]
  },
  {
   "cell_type": "code",
   "execution_count": 49,
   "metadata": {},
   "outputs": [],
   "source": [
    "# Ajuste Idade\n",
    "df_match['winner_age'].replace(',', '.', regex=True, inplace=True)\n",
    "df_match['loser_age'].replace(',', '.', regex=True, inplace=True)\n",
    "\n",
    "df_match['winner_age'] = df_match['winner_age'].astype(float)\n",
    "df_match['loser_age'] = df_match['loser_age'].astype(float)"
   ]
  },
  {
   "cell_type": "markdown",
   "metadata": {},
   "source": [
    "### 2. Separar base entre Winner x Loser\n",
    "\n",
    "Constribuir atributo pela diferença dos outros"
   ]
  },
  {
   "cell_type": "code",
   "execution_count": 50,
   "metadata": {},
   "outputs": [],
   "source": [
    "#Winner\n",
    "\n",
    "df_match['diff_rank'] = df_match['winner_rank'] - df_match['loser_rank']\n",
    "df_match['diff_rank_points'] = df_match['winner_rank_points'] - df_match['loser_rank_points']\n",
    "df_match['diff_age'] = df_match['winner_age'] - df_match['loser_age']\n",
    "df_match['class'] = 1\n",
    "\n",
    "df_winner = df_match[['surface', 'tourney_level', 'tourney_date', 'winner_id', 'winner_name', 'winner_hand', \n",
    "                    'loser_id', 'loser_name', 'loser_hand', 'round', 'diff_rank', 'diff_rank_points', 'diff_age', 'class']].dropna()\n",
    "\n",
    "df_winner = df_winner.rename(columns={\"winner_id\": \"player_id\", \"winner_name\": \"player_name\", \"winner_hand\": \"player_hand\", \n",
    "                   \"loser_id\": \"adv_id\", \"loser_name\": \"adv_name\", \"loser_hand\": \"adv_hand\"})"
   ]
  },
  {
   "cell_type": "code",
   "execution_count": 51,
   "metadata": {},
   "outputs": [],
   "source": [
    "#construct loser\n",
    "\n",
    "df_match['diff_rank'] =  df_match['loser_rank'] - df_match['winner_rank']\n",
    "df_match['diff_rank_points'] = df_match['loser_rank_points'] - df_match['winner_rank_points']\n",
    "df_match['diff_age'] = df_match['loser_age'] - df_match['winner_age']\n",
    "df_match['class'] = 0\n",
    "\n",
    "df_loser = df_match[['surface', 'tourney_level', 'tourney_date', 'loser_id', 'loser_name', 'loser_hand', \n",
    "                    'winner_id', 'winner_name', 'winner_hand', 'round', 'diff_rank', 'diff_rank_points', 'diff_age', 'class']].dropna()\n",
    "\n",
    "df_loser = df_loser.rename(columns={\"loser_id\": \"player_id\", \"loser_name\": \"player_name\", \"loser_hand\": \"player_hand\", \n",
    "                   \"winner_id\": \"adv_id\", \"winner_name\": \"adv_name\", \"winner_hand\": \"adv_hand\"})"
   ]
  },
  {
   "cell_type": "markdown",
   "metadata": {},
   "source": [
    "### 3. Merge de dataframes"
   ]
  },
  {
   "cell_type": "code",
   "execution_count": 52,
   "metadata": {},
   "outputs": [],
   "source": [
    "df = pd.concat([df_winner, df_loser], sort=False)"
   ]
  },
  {
   "cell_type": "code",
   "execution_count": 53,
   "metadata": {},
   "outputs": [
    {
     "data": {
      "text/html": [
       "<div>\n",
       "<style scoped>\n",
       "    .dataframe tbody tr th:only-of-type {\n",
       "        vertical-align: middle;\n",
       "    }\n",
       "\n",
       "    .dataframe tbody tr th {\n",
       "        vertical-align: top;\n",
       "    }\n",
       "\n",
       "    .dataframe thead th {\n",
       "        text-align: right;\n",
       "    }\n",
       "</style>\n",
       "<table border=\"1\" class=\"dataframe\">\n",
       "  <thead>\n",
       "    <tr style=\"text-align: right;\">\n",
       "      <th></th>\n",
       "      <th>surface</th>\n",
       "      <th>tourney_level</th>\n",
       "      <th>tourney_date</th>\n",
       "      <th>player_id</th>\n",
       "      <th>player_name</th>\n",
       "      <th>player_hand</th>\n",
       "      <th>adv_id</th>\n",
       "      <th>adv_name</th>\n",
       "      <th>adv_hand</th>\n",
       "      <th>round</th>\n",
       "      <th>diff_rank</th>\n",
       "      <th>diff_rank_points</th>\n",
       "      <th>diff_age</th>\n",
       "      <th>class</th>\n",
       "    </tr>\n",
       "  </thead>\n",
       "  <tbody>\n",
       "    <tr>\n",
       "      <th>0</th>\n",
       "      <td>Hard</td>\n",
       "      <td>A</td>\n",
       "      <td>20000103</td>\n",
       "      <td>102358</td>\n",
       "      <td>Thomas Enqvist</td>\n",
       "      <td>R</td>\n",
       "      <td>103096</td>\n",
       "      <td>Arnaud Clement</td>\n",
       "      <td>R</td>\n",
       "      <td>R32</td>\n",
       "      <td>-52.0</td>\n",
       "      <td>1360.0</td>\n",
       "      <td>3.76</td>\n",
       "      <td>1</td>\n",
       "    </tr>\n",
       "    <tr>\n",
       "      <th>1</th>\n",
       "      <td>Hard</td>\n",
       "      <td>A</td>\n",
       "      <td>20000103</td>\n",
       "      <td>103819</td>\n",
       "      <td>Roger Federer</td>\n",
       "      <td>R</td>\n",
       "      <td>102533</td>\n",
       "      <td>Jens Knippschild</td>\n",
       "      <td>R</td>\n",
       "      <td>R32</td>\n",
       "      <td>-27.0</td>\n",
       "      <td>111.0</td>\n",
       "      <td>-6.48</td>\n",
       "      <td>1</td>\n",
       "    </tr>\n",
       "    <tr>\n",
       "      <th>2</th>\n",
       "      <td>Hard</td>\n",
       "      <td>A</td>\n",
       "      <td>20000103</td>\n",
       "      <td>102998</td>\n",
       "      <td>Jan Michael Gambill</td>\n",
       "      <td>R</td>\n",
       "      <td>101885</td>\n",
       "      <td>Wayne Arthurs</td>\n",
       "      <td>L</td>\n",
       "      <td>R32</td>\n",
       "      <td>-47.0</td>\n",
       "      <td>301.0</td>\n",
       "      <td>-6.22</td>\n",
       "      <td>1</td>\n",
       "    </tr>\n",
       "    <tr>\n",
       "      <th>3</th>\n",
       "      <td>Hard</td>\n",
       "      <td>A</td>\n",
       "      <td>20000103</td>\n",
       "      <td>103206</td>\n",
       "      <td>Sebastien Grosjean</td>\n",
       "      <td>R</td>\n",
       "      <td>102776</td>\n",
       "      <td>Andrew Ilie</td>\n",
       "      <td>R</td>\n",
       "      <td>R32</td>\n",
       "      <td>-27.0</td>\n",
       "      <td>326.0</td>\n",
       "      <td>-2.11</td>\n",
       "      <td>1</td>\n",
       "    </tr>\n",
       "    <tr>\n",
       "      <th>4</th>\n",
       "      <td>Hard</td>\n",
       "      <td>A</td>\n",
       "      <td>20000103</td>\n",
       "      <td>102796</td>\n",
       "      <td>Magnus Norman</td>\n",
       "      <td>R</td>\n",
       "      <td>102401</td>\n",
       "      <td>Scott Draper</td>\n",
       "      <td>L</td>\n",
       "      <td>R32</td>\n",
       "      <td>-139.0</td>\n",
       "      <td>1025.0</td>\n",
       "      <td>-1.99</td>\n",
       "      <td>1</td>\n",
       "    </tr>\n",
       "  </tbody>\n",
       "</table>\n",
       "</div>"
      ],
      "text/plain": [
       "  surface tourney_level  tourney_date  player_id          player_name  \\\n",
       "0    Hard             A      20000103     102358       Thomas Enqvist   \n",
       "1    Hard             A      20000103     103819        Roger Federer   \n",
       "2    Hard             A      20000103     102998  Jan Michael Gambill   \n",
       "3    Hard             A      20000103     103206   Sebastien Grosjean   \n",
       "4    Hard             A      20000103     102796        Magnus Norman   \n",
       "\n",
       "  player_hand  adv_id          adv_name adv_hand round  diff_rank  \\\n",
       "0           R  103096    Arnaud Clement        R   R32      -52.0   \n",
       "1           R  102533  Jens Knippschild        R   R32      -27.0   \n",
       "2           R  101885     Wayne Arthurs        L   R32      -47.0   \n",
       "3           R  102776       Andrew Ilie        R   R32      -27.0   \n",
       "4           R  102401      Scott Draper        L   R32     -139.0   \n",
       "\n",
       "   diff_rank_points  diff_age  class  \n",
       "0            1360.0      3.76      1  \n",
       "1             111.0     -6.48      1  \n",
       "2             301.0     -6.22      1  \n",
       "3             326.0     -2.11      1  \n",
       "4            1025.0     -1.99      1  "
      ]
     },
     "execution_count": 53,
     "metadata": {},
     "output_type": "execute_result"
    }
   ],
   "source": [
    "df.head()"
   ]
  },
  {
   "cell_type": "markdown",
   "metadata": {},
   "source": [
    "### 4. Salvar base"
   ]
  },
  {
   "cell_type": "code",
   "execution_count": 55,
   "metadata": {},
   "outputs": [],
   "source": [
    "df.to_csv('matches_info_cleaned.csv', encoding='utf-8', index=False)"
   ]
  },
  {
   "cell_type": "code",
   "execution_count": null,
   "metadata": {},
   "outputs": [],
   "source": []
  }
 ],
 "metadata": {
  "kernelspec": {
   "display_name": "Python 3",
   "language": "python",
   "name": "python3"
  },
  "language_info": {
   "codemirror_mode": {
    "name": "ipython",
    "version": 3
   },
   "file_extension": ".py",
   "mimetype": "text/x-python",
   "name": "python",
   "nbconvert_exporter": "python",
   "pygments_lexer": "ipython3",
   "version": "3.7.3"
  }
 },
 "nbformat": 4,
 "nbformat_minor": 4
}
