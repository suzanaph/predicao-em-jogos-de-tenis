{
 "cells": [
  {
   "cell_type": "code",
   "execution_count": 17,
   "metadata": {},
   "outputs": [],
   "source": [
    "import pandas as pd\n",
    "import numpy as np\n",
    "import datetime as dt"
   ]
  },
  {
   "cell_type": "code",
   "execution_count": 18,
   "metadata": {},
   "outputs": [],
   "source": [
    "df_match= pd.read_csv(\"matches_info_cleaned.csv\", sep=',') \n",
    "df_player = pd.read_csv('players_info_clustezition.csv', sep=',')"
   ]
  },
  {
   "cell_type": "code",
   "execution_count": 19,
   "metadata": {},
   "outputs": [],
   "source": [
    "df_player = df_player.iloc[0:100]\n",
    "df_player['name_player'] = df_player['player_name']\n",
    "df_player.drop(columns=['player_name'], inplace=True)"
   ]
  },
  {
   "cell_type": "code",
   "execution_count": 20,
   "metadata": {},
   "outputs": [],
   "source": [
    "df = df_match.merge(df_player, left_on='adv_name', right_on='name_player')"
   ]
  },
  {
   "cell_type": "code",
   "execution_count": 21,
   "metadata": {},
   "outputs": [
    {
     "name": "stdout",
     "output_type": "stream",
     "text": [
      "<class 'pandas.core.frame.DataFrame'>\n",
      "Int64Index: 26111 entries, 0 to 26110\n",
      "Data columns (total 41 columns):\n",
      "surface               26111 non-null object\n",
      "tourney_level         26111 non-null object\n",
      "tourney_date          26111 non-null int64\n",
      "player_id_x           26111 non-null int64\n",
      "player_name           26111 non-null object\n",
      "player_hand           26111 non-null object\n",
      "adv_id                26111 non-null int64\n",
      "adv_name              26111 non-null object\n",
      "adv_hand              26111 non-null object\n",
      "round                 26111 non-null object\n",
      "diff_rank             26111 non-null float64\n",
      "diff_rank_points      26111 non-null float64\n",
      "diff_age              26111 non-null float64\n",
      "class                 26111 non-null int64\n",
      "player_id_y           26111 non-null int64\n",
      "age                   26111 non-null int64\n",
      "country               26111 non-null object\n",
      "favorite_hand         26111 non-null object\n",
      "backhand              26111 non-null object\n",
      "turned_pro            26111 non-null int64\n",
      "prize_money           25973 non-null object\n",
      "titles                26111 non-null int64\n",
      "cluster_level         26111 non-null int64\n",
      "cluster_piso          26111 non-null int64\n",
      "cluster_pressao       26111 non-null int64\n",
      "cluster_saque         26111 non-null int64\n",
      "cluster_duplafalta    26111 non-null int64\n",
      "cluster_servico       26111 non-null int64\n",
      "cluster_retorno       26111 non-null int64\n",
      "cluster_bpcontra      26111 non-null int64\n",
      "cluster_bpfavor       26111 non-null int64\n",
      "cluster_pontos        26111 non-null int64\n",
      "cluster_game          26111 non-null int64\n",
      "cluster_match         26111 non-null int64\n",
      "cluster_tiebreak      26111 non-null int64\n",
      "cluster_upset         26111 non-null int64\n",
      "cluster_dominance     26111 non-null int64\n",
      "cluster_rodada        26111 non-null int64\n",
      "cluster_velocidade    26111 non-null int64\n",
      "cluster_oponente      26111 non-null int64\n",
      "name_player           26111 non-null object\n",
      "dtypes: float64(3), int64(26), object(12)\n",
      "memory usage: 8.4+ MB\n"
     ]
    }
   ],
   "source": [
    "df.info()"
   ]
  },
  {
   "cell_type": "code",
   "execution_count": 22,
   "metadata": {},
   "outputs": [],
   "source": [
    "df_filter = df.groupby('name_player').size().reset_index(name='counts')\n",
    "df_filter = df_filter[df_filter['counts'] >= 100]\n",
    "\n",
    "df = df.merge(df_filter, on='name_player')"
   ]
  },
  {
   "cell_type": "code",
   "execution_count": 23,
   "metadata": {},
   "outputs": [
    {
     "name": "stdout",
     "output_type": "stream",
     "text": [
      "<class 'pandas.core.frame.DataFrame'>\n",
      "Int64Index: 24687 entries, 0 to 24686\n",
      "Data columns (total 42 columns):\n",
      "surface               24687 non-null object\n",
      "tourney_level         24687 non-null object\n",
      "tourney_date          24687 non-null int64\n",
      "player_id_x           24687 non-null int64\n",
      "player_name           24687 non-null object\n",
      "player_hand           24687 non-null object\n",
      "adv_id                24687 non-null int64\n",
      "adv_name              24687 non-null object\n",
      "adv_hand              24687 non-null object\n",
      "round                 24687 non-null object\n",
      "diff_rank             24687 non-null float64\n",
      "diff_rank_points      24687 non-null float64\n",
      "diff_age              24687 non-null float64\n",
      "class                 24687 non-null int64\n",
      "player_id_y           24687 non-null int64\n",
      "age                   24687 non-null int64\n",
      "country               24687 non-null object\n",
      "favorite_hand         24687 non-null object\n",
      "backhand              24687 non-null object\n",
      "turned_pro            24687 non-null int64\n",
      "prize_money           24549 non-null object\n",
      "titles                24687 non-null int64\n",
      "cluster_level         24687 non-null int64\n",
      "cluster_piso          24687 non-null int64\n",
      "cluster_pressao       24687 non-null int64\n",
      "cluster_saque         24687 non-null int64\n",
      "cluster_duplafalta    24687 non-null int64\n",
      "cluster_servico       24687 non-null int64\n",
      "cluster_retorno       24687 non-null int64\n",
      "cluster_bpcontra      24687 non-null int64\n",
      "cluster_bpfavor       24687 non-null int64\n",
      "cluster_pontos        24687 non-null int64\n",
      "cluster_game          24687 non-null int64\n",
      "cluster_match         24687 non-null int64\n",
      "cluster_tiebreak      24687 non-null int64\n",
      "cluster_upset         24687 non-null int64\n",
      "cluster_dominance     24687 non-null int64\n",
      "cluster_rodada        24687 non-null int64\n",
      "cluster_velocidade    24687 non-null int64\n",
      "cluster_oponente      24687 non-null int64\n",
      "name_player           24687 non-null object\n",
      "counts                24687 non-null int64\n",
      "dtypes: float64(3), int64(27), object(12)\n",
      "memory usage: 8.1+ MB\n"
     ]
    }
   ],
   "source": [
    "df.info()"
   ]
  },
  {
   "cell_type": "code",
   "execution_count": 24,
   "metadata": {},
   "outputs": [],
   "source": [
    "from datetime import date\n",
    "\n",
    "\n",
    "def int2date(argdate: int) -> date:\n",
    "   \n",
    "    year = int(argdate / 10000)\n",
    "    month = int((argdate % 10000) / 100)\n",
    "    day = int(argdate % 100)\n",
    "\n",
    "    return date(year, month, day)"
   ]
  },
  {
   "cell_type": "code",
   "execution_count": 25,
   "metadata": {},
   "outputs": [],
   "source": [
    "df['date'] = df['tourney_date'].apply(lambda x: int2date(x)).apply(pd.to_datetime)"
   ]
  },
  {
   "cell_type": "code",
   "execution_count": 26,
   "metadata": {},
   "outputs": [],
   "source": [
    "df.drop(columns=['tourney_date', 'player_id_x', 'player_id_y', 'adv_id', 'age', 'favorite_hand', \n",
    "                 'prize_money', 'turned_pro', 'country', \n",
    "                 'adv_name', 'player_name'], inplace=True)"
   ]
  },
  {
   "cell_type": "code",
   "execution_count": 27,
   "metadata": {},
   "outputs": [],
   "source": [
    "df = df[~df['surface'].isin(['Carpet', 'None'])]"
   ]
  },
  {
   "cell_type": "code",
   "execution_count": 28,
   "metadata": {},
   "outputs": [
    {
     "name": "stderr",
     "output_type": "stream",
     "text": [
      "/Users/suzana/anaconda3/lib/python3.7/site-packages/ipykernel_launcher.py:1: FutureWarning: Comparing Series of datetimes with 'datetime.date'.  Currently, the\n",
      "'datetime.date' is coerced to a datetime. In the future pandas will\n",
      "not coerce, and a TypeError will be raised. To retain the current\n",
      "behavior, convert the 'datetime.date' to a datetime with\n",
      "'pd.Timestamp'.\n",
      "  \"\"\"Entry point for launching an IPython kernel.\n",
      "/Users/suzana/anaconda3/lib/python3.7/site-packages/ipykernel_launcher.py:2: FutureWarning: Comparing Series of datetimes with 'datetime.date'.  Currently, the\n",
      "'datetime.date' is coerced to a datetime. In the future pandas will\n",
      "not coerce, and a TypeError will be raised. To retain the current\n",
      "behavior, convert the 'datetime.date' to a datetime with\n",
      "'pd.Timestamp'.\n",
      "  \n"
     ]
    }
   ],
   "source": [
    "df_train = df[ df['date'] < dt.date(2018,1,1) ]\n",
    "df_test = df[ df['date'] >= dt.date(2018,1,1) ]\n",
    "\n",
    "df_train_clus =  pd.get_dummies(df_train)\n",
    "df_test_clus =  pd.get_dummies(df_test)\n",
    "\n",
    "df_test_clus = df_test_clus[df_test_clus['tourney_level_G'] == 1]"
   ]
  },
  {
   "cell_type": "code",
   "execution_count": 218,
   "metadata": {},
   "outputs": [],
   "source": [
    "from sklearn.model_selection import RandomizedSearchCV\n",
    "\n",
    "# Number of trees in random forest\n",
    "n_estimators = [int(x) for x in np.linspace(start = 200, stop = 2000, num = 10)]\n",
    "# Number of features to consider at every split\n",
    "max_features = ['auto', 'sqrt']\n",
    "# Maximum number of levels in tree\n",
    "max_depth = [int(x) for x in np.linspace(10, 100, num = 11)]\n",
    "max_depth.append(None)\n",
    "# Minimum number of samples required to split a node\n",
    "min_samples_split = [2, 5, 10]\n",
    "# Minimum number of samples required at each leaf node\n",
    "min_samples_leaf = [1, 2, 4]\n",
    "# Method of selecting samples for training each tree\n",
    "bootstrap = [True, False]\n",
    "# Create the random grid\n",
    "random_grid = {'n_estimators': n_estimators,\n",
    "               'max_features': max_features,\n",
    "               'max_depth': max_depth,\n",
    "               'min_samples_split': min_samples_split,\n",
    "               'min_samples_leaf': min_samples_leaf,\n",
    "               'bootstrap': bootstrap}"
   ]
  },
  {
   "cell_type": "code",
   "execution_count": 219,
   "metadata": {},
   "outputs": [],
   "source": [
    "from sklearn.ensemble import RandomForestClassifier\n",
    "\n",
    "clf = RandomForestClassifier()\n",
    "\n",
    "clf_random = RandomizedSearchCV(estimator = clf, param_distributions = random_grid, n_iter = 100, cv = 3, verbose=2, random_state=42, n_jobs = -1)"
   ]
  },
  {
   "cell_type": "code",
   "execution_count": 220,
   "metadata": {},
   "outputs": [
    {
     "name": "stdout",
     "output_type": "stream",
     "text": [
      "Fitting 3 folds for each of 100 candidates, totalling 300 fits\n"
     ]
    },
    {
     "name": "stderr",
     "output_type": "stream",
     "text": [
      "[Parallel(n_jobs=-1)]: Using backend LokyBackend with 8 concurrent workers.\n",
      "[Parallel(n_jobs=-1)]: Done  25 tasks      | elapsed:  2.1min\n",
      "[Parallel(n_jobs=-1)]: Done 146 tasks      | elapsed: 12.4min\n",
      "[Parallel(n_jobs=-1)]: Done 300 out of 300 | elapsed: 25.1min finished\n"
     ]
    },
    {
     "data": {
      "text/plain": [
       "RandomizedSearchCV(cv=3, error_score='raise-deprecating',\n",
       "                   estimator=RandomForestClassifier(bootstrap=True,\n",
       "                                                    class_weight=None,\n",
       "                                                    criterion='gini',\n",
       "                                                    max_depth=None,\n",
       "                                                    max_features='auto',\n",
       "                                                    max_leaf_nodes=None,\n",
       "                                                    min_impurity_decrease=0.0,\n",
       "                                                    min_impurity_split=None,\n",
       "                                                    min_samples_leaf=1,\n",
       "                                                    min_samples_split=2,\n",
       "                                                    min_weight_fraction_leaf=0.0,\n",
       "                                                    n_estimators='warn',\n",
       "                                                    n_jobs=None,\n",
       "                                                    oob_sc...\n",
       "                   iid='warn', n_iter=100, n_jobs=-1,\n",
       "                   param_distributions={'bootstrap': [True, False],\n",
       "                                        'max_depth': [10, 19, 28, 37, 46, 55,\n",
       "                                                      64, 73, 82, 91, 100,\n",
       "                                                      None],\n",
       "                                        'max_features': ['auto', 'sqrt'],\n",
       "                                        'min_samples_leaf': [1, 2, 4],\n",
       "                                        'min_samples_split': [2, 5, 10],\n",
       "                                        'n_estimators': [200, 400, 600, 800,\n",
       "                                                         1000, 1200, 1400, 1600,\n",
       "                                                         1800, 2000]},\n",
       "                   pre_dispatch='2*n_jobs', random_state=42, refit=True,\n",
       "                   return_train_score=False, scoring=None, verbose=2)"
      ]
     },
     "execution_count": 220,
     "metadata": {},
     "output_type": "execute_result"
    }
   ],
   "source": [
    "clf_random.fit(df_train_clus.drop(columns=['class', 'date']), df_train_clus['class'])"
   ]
  },
  {
   "cell_type": "code",
   "execution_count": 222,
   "metadata": {},
   "outputs": [
    {
     "data": {
      "text/plain": [
       "{'n_estimators': 400,\n",
       " 'min_samples_split': 2,\n",
       " 'min_samples_leaf': 4,\n",
       " 'max_features': 'sqrt',\n",
       " 'max_depth': 10,\n",
       " 'bootstrap': True}"
      ]
     },
     "execution_count": 222,
     "metadata": {},
     "output_type": "execute_result"
    }
   ],
   "source": [
    "clf_random.best_params_"
   ]
  },
  {
   "cell_type": "code",
   "execution_count": 30,
   "metadata": {},
   "outputs": [],
   "source": [
    "from sklearn.ensemble import RandomForestClassifier\n",
    "\n",
    "clf = RandomForestClassifier(n_estimators=400,  min_samples_split=2, min_samples_leaf = 4, max_features = 'sqrt',\n",
    "                            max_depth = 10, bootstrap= True)\n",
    "clf.fit(df_train_clus.drop(columns=['class', 'date']), df_train_clus['class'])\n",
    "pred = clf.predict(df_test_clus.drop(columns=['class', 'date']))"
   ]
  },
  {
   "cell_type": "code",
   "execution_count": 31,
   "metadata": {},
   "outputs": [
    {
     "data": {
      "text/plain": [
       "0.7122140684043943"
      ]
     },
     "execution_count": 31,
     "metadata": {},
     "output_type": "execute_result"
    }
   ],
   "source": [
    "from sklearn.metrics import balanced_accuracy_score\n",
    "\n",
    "balanced_accuracy_score(df_test_clus['class'], pred)"
   ]
  },
  {
   "cell_type": "code",
   "execution_count": 14,
   "metadata": {},
   "outputs": [],
   "source": [
    "from sklearn.svm import SVC\n",
    "\n",
    "clf = SVC(gamma='auto')\n",
    "clf.fit(df_train_clus.drop(columns=['class', 'date']), df_train_clus['class']) \n",
    "pred = clf.predict(df_test_clus.drop(columns=['class', 'date']))"
   ]
  },
  {
   "cell_type": "code",
   "execution_count": null,
   "metadata": {},
   "outputs": [],
   "source": []
  }
 ],
 "metadata": {
  "kernelspec": {
   "display_name": "Python 3",
   "language": "python",
   "name": "python3"
  },
  "language_info": {
   "codemirror_mode": {
    "name": "ipython",
    "version": 3
   },
   "file_extension": ".py",
   "mimetype": "text/x-python",
   "name": "python",
   "nbconvert_exporter": "python",
   "pygments_lexer": "ipython3",
   "version": "3.7.1"
  }
 },
 "nbformat": 4,
 "nbformat_minor": 4
}
