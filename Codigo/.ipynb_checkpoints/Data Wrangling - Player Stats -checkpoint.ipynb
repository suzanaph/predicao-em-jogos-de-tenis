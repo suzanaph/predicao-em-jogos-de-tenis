{
 "cells": [
  {
   "cell_type": "code",
   "execution_count": 86,
   "metadata": {},
   "outputs": [],
   "source": [
    "import numpy as np\n",
    "import pandas as pd"
   ]
  },
  {
   "cell_type": "code",
   "execution_count": 87,
   "metadata": {},
   "outputs": [
    {
     "data": {
      "text/plain": [
       "(100, 169)"
      ]
     },
     "execution_count": 87,
     "metadata": {},
     "output_type": "execute_result"
    }
   ],
   "source": [
    "df = pd.read_csv('players_stats_13-02-2019.csv', sep=';')\n",
    "df_dict = pd.read_csv('data_dictionary.csv', sep=';', encoding='cp1252')\n",
    "pd.options.display.max_columns = None\n",
    "df.shape"
   ]
  },
  {
   "cell_type": "markdown",
   "metadata": {},
   "source": [
    "# Limpeza\n",
    "\n",
    "### Retirar Parenteses\n",
    "\n",
    "ok \n",
    "#### Age, Current_Rank, Best_Rank, Current_Elo_Rank, Best_Elo_Rank, Pick_Elo_Rank, Goat_Rank, Hard,\tClay,\tGrass,\tCarpet,\tGrand_Slam.1,\tTour_Finals\tMasters.1,\tOlympics,\tATP_500\tATP_250\tDavis_Cup,\tDeciding_Set,\tFifth_Set, After_Winning_1st_Set,\tAfter_Losing_1st_Set,\tTie-Breaks, \tDeciding_Set_Tie-Breaks,\tOutdoor,\tIndoor,\tBest_of_3,\tBest_of_5,\tVs_No._1,\tVs_Top_5,\tVs_Top_10,\tVs_Top_20,\tVs_Top_50,\tVs_Top_100,\tFinal,\tFor_Bronze_Medal,\tSemi-Final,\tQuarter-Final,\tRound_of_16,\tRound_of_32,\tRound_of_64,\tRound_of_128,\tRound-Robin,\tVery_Fast,\tFast, Medium_Fast,\tMedium,\tMedium_Slow,\tSlow,\tVery_Slow\tBest_of_3:_2:0\tBest_of_3:_2:1\tBest_of_3:_1:2\tBest_of_3:_0:2\tBest_of_5:_3:0\tBest_of_5:_3:1\tBest_of_5:_3:2\tBest_of_5:_2:3,\tBest_of_5:_1:3,\tBest_of_5:_0:3\n",
    "\n",
    "\n",
    "#### Height \n",
    "\n",
    "ok retirar kg\n",
    "tratar missing\n",
    "\n",
    "\n",
    "#### Weight\n",
    "ok retirar cm\n",
    "tratar missing\n",
    "\n",
    "ok\n",
    "#### Seasons\n",
    "drop\n",
    "\n",
    "ok\n",
    "#### Active\n",
    "drop\n",
    "\n",
    "\n",
    "#### Prize_Money\n",
    "ok\n",
    "deixar apenas numeros\n",
    "tratar pra int\n",
    "\n",
    "ok\n",
    "#### Tipos de dados\n",
    "seguir planilha de dicionário\n",
    "\n",
    "#### Converter tempo para minutos\n",
    "colunas = Point_Time_(seconds) (segundos)  // Match_Time (horas)\n",
    "\n",
    "\n",
    "#### Discretizar atributor\n",
    "ranges - Age, Height, Weight\n",
    "numeros - Plays, BackHand\n",
    "\n",
    "#### Tratar missing\n",
    "Grand Slam, Masters, Finals\n",
    "\n",
    "ok\n",
    "#### Retirar % das colunas\n",
    "\n",
    "\n",
    "\n",
    "\n"
   ]
  },
  {
   "cell_type": "code",
   "execution_count": 88,
   "metadata": {
    "scrolled": false
   },
   "outputs": [],
   "source": [
    "#parenteses\n",
    "columns = ['Age', 'Current_Rank', 'Best_Rank', 'Current_Elo_Rank', 'Best_Elo_Rank', 'Pick_Elo_Rank', 'Goat_Rank', 'Hard', 'Clay',\n",
    "           'Grass', 'Carpet', 'Grand_Slam.1', 'Tour_Finals', 'Masters.1', 'Olympics', 'ATP_500', 'ATP_250', 'Davis_Cup', \n",
    "           'Deciding_Set', 'Fifth_Set', 'After_Winning_1st_Set', 'After_Losing_1st_Set', 'Tie-Breaks', 'Deciding_Set_Tie-Breaks',\n",
    "           'Outdoor', 'Indoor', 'Best_of_3', 'Best_of_5', 'Vs_No._1', 'Vs_Top_5', 'Vs_Top_10', 'Vs_Top_20', 'Vs_Top_50',\n",
    "           'Vs_Top_100', 'Final', 'For_Bronze_Medal', 'Semi-Final', 'Quarter-Final', 'Round_of_16', 'Round_of_32', 'Round_of_64',\n",
    "           'Round_of_128', 'Round-Robin', 'Very_Fast', 'Fast', 'Medium_Fast', 'Medium', 'Medium_Slow', 'Slow', 'Very_Slow',\n",
    "           'Best_of_3:_2:0', 'Best_of_3:_2:1', 'Best_of_3:_1:2', 'Best_of_3:_0:2', 'Best_of_5:_3:0', 'Best_of_5:_3:1', \n",
    "           'Best_of_5:_3:2', 'Best_of_5:_2:3', 'Best_of_5:_1:3', 'Best_of_5:_0:3']\n",
    "\n",
    "for column in columns:\n",
    "    df[column] = df[column].str.split('(')\n",
    "    df[column] = df[column].str[0]"
   ]
  },
  {
   "cell_type": "code",
   "execution_count": 89,
   "metadata": {},
   "outputs": [],
   "source": [
    "# retirar % das colunas\n",
    "for column in df:\n",
    "    if (df[column].dtype == np.object):    \n",
    "        df[column] = df[column].str.replace('%', '')\n",
    "        df[column] = df[column].str.strip()"
   ]
  },
  {
   "cell_type": "code",
   "execution_count": 90,
   "metadata": {},
   "outputs": [],
   "source": [
    "#kg e cm\n",
    "df['Height'] = df['Height'].str.replace('kg', '')\n",
    "df['Weight'] = df['Weight'].str.replace('cm', '')"
   ]
  },
  {
   "cell_type": "code",
   "execution_count": 91,
   "metadata": {},
   "outputs": [],
   "source": [
    "df.drop(columns=['Seasons', 'Active'], inplace=True)\n"
   ]
  },
  {
   "cell_type": "code",
   "execution_count": 92,
   "metadata": {},
   "outputs": [],
   "source": [
    "df['Prize_Money'] = df['Prize_Money'].str.split('$')\n",
    "df['Prize_Money'] = df['Prize_Money'].str[1]\n",
    "\n",
    "#remove espaço do inicio\n",
    "df['Prize_Money'] = df['Prize_Money'].str.lstrip()\n",
    "df['Prize_Money'] = df['Prize_Money'].str.split(' ')\n",
    "df['Prize_Money'] = df['Prize_Money'].str[0]"
   ]
  },
  {
   "cell_type": "markdown",
   "metadata": {},
   "source": [
    "#### type of columns"
   ]
  },
  {
   "cell_type": "code",
   "execution_count": 106,
   "metadata": {},
   "outputs": [],
   "source": [
    "df_dict = df_dict.rename(columns={'Tipo de Dados': 'data_type'})"
   ]
  },
  {
   "cell_type": "code",
   "execution_count": 104,
   "metadata": {},
   "outputs": [],
   "source": [
    "for index, row in df_dict.iterrows():\n",
    "    #df_wrd_copy.in_reply_to_user_id.notna().astype('int64')\n",
    "    if row.data_type == 'int':\n",
    "         df[row.Atributo] = df[row.Atributo].notna().astype('int')\n",
    "    elif row.data_type == 'float':\n",
    "         df[row.Atributo] = df[row.Atributo].notna().astype('float')"
   ]
  },
  {
   "cell_type": "code",
   "execution_count": null,
   "metadata": {},
   "outputs": [],
   "source": []
  },
  {
   "cell_type": "code",
   "execution_count": null,
   "metadata": {},
   "outputs": [],
   "source": []
  }
 ],
 "metadata": {
  "kernelspec": {
   "display_name": "Python 3",
   "language": "python",
   "name": "python3"
  },
  "language_info": {
   "codemirror_mode": {
    "name": "ipython",
    "version": 3
   },
   "file_extension": ".py",
   "mimetype": "text/x-python",
   "name": "python",
   "nbconvert_exporter": "python",
   "pygments_lexer": "ipython3",
   "version": "3.7.1"
  }
 },
 "nbformat": 4,
 "nbformat_minor": 2
}
