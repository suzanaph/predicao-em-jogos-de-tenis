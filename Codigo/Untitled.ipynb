{
 "cells": [
  {
   "cell_type": "code",
   "execution_count": 84,
   "metadata": {},
   "outputs": [],
   "source": [
    "import pandas as pd"
   ]
  },
  {
   "cell_type": "code",
   "execution_count": 85,
   "metadata": {},
   "outputs": [],
   "source": [
    "df_match= pd.read_csv(\"atp_matches.csv\", sep=';') "
   ]
  },
  {
   "cell_type": "markdown",
   "metadata": {},
   "source": [
    "### 01. Ajuste de Tipos"
   ]
  },
  {
   "cell_type": "code",
   "execution_count": 139,
   "metadata": {},
   "outputs": [],
   "source": [
    "from datetime import date\n",
    "\n",
    "\n",
    "def int2date(argdate: int) -> date:\n",
    "   \n",
    "    year = int(argdate / 10000)\n",
    "    month = int((argdate % 10000) / 100)\n",
    "    day = int(argdate % 100)\n",
    "\n",
    "    return date(year, month, day)"
   ]
  },
  {
   "cell_type": "code",
   "execution_count": 89,
   "metadata": {},
   "outputs": [],
   "source": [
    "# Ajuste Data\n",
    "\n",
    "df_match['date'] = df_match['tourney_date'].apply(lambda x: int2date(x)).apply(pd.to_datetime)\n",
    "df_match.sort_values(by=['date'], inplace=True, ascending = True)"
   ]
  },
  {
   "cell_type": "code",
   "execution_count": 107,
   "metadata": {},
   "outputs": [],
   "source": [
    "# Ajuste Idade\n",
    "\n",
    "df_match['winner_age'].replace(',', '.', regex=True, inplace=True)\n",
    "df_match['loser_age'].replace(',', '.', regex=True, inplace=True)\n",
    "\n",
    "df_match['winner_age'] = df_match['winner_age'].astype(float)\n",
    "df_match['loser_age'] = df_match['loser_age'].astype(float)"
   ]
  },
  {
   "cell_type": "markdown",
   "metadata": {},
   "source": [
    "### 02. Diff Features"
   ]
  },
  {
   "cell_type": "code",
   "execution_count": 115,
   "metadata": {},
   "outputs": [],
   "source": [
    "df_match['diff_rank'] = df_match['loser_rank'] - df_match['winner_rank']\n",
    "df_match['diff_rank_points'] = df_match['winner_rank_points'] - df_match['loser_rank_points']\n",
    "df_match['diff_age'] = df_match['winner_age'] - df_match['loser_age']"
   ]
  },
  {
   "cell_type": "code",
   "execution_count": 138,
   "metadata": {},
   "outputs": [],
   "source": [
    "# Select colunas\n",
    "df = df_match[['surface', 'tourney_level', 'tourney_date', 'winner_id', 'winner_name', 'winner_hand', \n",
    "               'loser_id', 'loser_name', 'loser_hand', 'round', 'diff_rank', 'diff_rank_points', 'diff_age']].dropna()"
   ]
  },
  {
   "cell_type": "code",
   "execution_count": null,
   "metadata": {},
   "outputs": [],
   "source": []
  }
 ],
 "metadata": {
  "kernelspec": {
   "display_name": "Python 3",
   "language": "python",
   "name": "python3"
  },
  "language_info": {
   "codemirror_mode": {
    "name": "ipython",
    "version": 3
   },
   "file_extension": ".py",
   "mimetype": "text/x-python",
   "name": "python",
   "nbconvert_exporter": "python",
   "pygments_lexer": "ipython3",
   "version": "3.7.3"
  }
 },
 "nbformat": 4,
 "nbformat_minor": 2
}
