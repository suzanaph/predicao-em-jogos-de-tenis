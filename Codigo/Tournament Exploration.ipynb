{
 "cells": [
  {
   "cell_type": "code",
   "execution_count": 130,
   "metadata": {},
   "outputs": [],
   "source": [
    "import pandas as pd\n",
    "import matplotlib.pyplot as plt\n",
    "from sklearn.cluster import KMeans\n",
    "%matplotlib inline"
   ]
  },
  {
   "cell_type": "code",
   "execution_count": 56,
   "metadata": {},
   "outputs": [
    {
     "data": {
      "text/html": [
       "<div>\n",
       "<style scoped>\n",
       "    .dataframe tbody tr th:only-of-type {\n",
       "        vertical-align: middle;\n",
       "    }\n",
       "\n",
       "    .dataframe tbody tr th {\n",
       "        vertical-align: top;\n",
       "    }\n",
       "\n",
       "    .dataframe thead th {\n",
       "        text-align: right;\n",
       "    }\n",
       "</style>\n",
       "<table border=\"1\" class=\"dataframe\">\n",
       "  <thead>\n",
       "    <tr style=\"text-align: right;\">\n",
       "      <th></th>\n",
       "      <th>title</th>\n",
       "      <th>location</th>\n",
       "      <th>date</th>\n",
       "      <th>players</th>\n",
       "      <th>surface</th>\n",
       "      <th>court_type</th>\n",
       "      <th>prize</th>\n",
       "      <th>winner</th>\n",
       "    </tr>\n",
       "  </thead>\n",
       "  <tbody>\n",
       "    <tr>\n",
       "      <th>2</th>\n",
       "      <td>Adelaide</td>\n",
       "      <td>Adelaide</td>\n",
       "      <td>2000.01.03</td>\n",
       "      <td>32</td>\n",
       "      <td>Hard</td>\n",
       "      <td>Outdoor</td>\n",
       "      <td>$350,000</td>\n",
       "      <td>Lleyton Hewitt</td>\n",
       "    </tr>\n",
       "    <tr>\n",
       "      <th>569</th>\n",
       "      <td>ATP Masters Series Miami</td>\n",
       "      <td>Miami</td>\n",
       "      <td>2008.03.27</td>\n",
       "      <td>96</td>\n",
       "      <td>Hard</td>\n",
       "      <td>Outdoor</td>\n",
       "      <td>$3,770,000</td>\n",
       "      <td>Nikolay Davydenko</td>\n",
       "    </tr>\n",
       "    <tr>\n",
       "      <th>276</th>\n",
       "      <td>ATP World Tour Masters 1000 Paris</td>\n",
       "      <td>Paris</td>\n",
       "      <td>2003.10.27</td>\n",
       "      <td>48</td>\n",
       "      <td>Carpet</td>\n",
       "      <td>Indoor</td>\n",
       "      <td>$2,240,000</td>\n",
       "      <td>Tim Henman</td>\n",
       "    </tr>\n",
       "    <tr>\n",
       "      <th>958</th>\n",
       "      <td>Memphis</td>\n",
       "      <td>Memphis, United States</td>\n",
       "      <td>2014.02.10</td>\n",
       "      <td>28</td>\n",
       "      <td>Hard</td>\n",
       "      <td>Indoor</td>\n",
       "      <td>$647,675</td>\n",
       "      <td>Kei Nishikori</td>\n",
       "    </tr>\n",
       "    <tr>\n",
       "      <th>1049</th>\n",
       "      <td>Nottingham</td>\n",
       "      <td>Nottingham, Great Britain</td>\n",
       "      <td>2015.06.21</td>\n",
       "      <td>48</td>\n",
       "      <td>Grass</td>\n",
       "      <td>Outdoor</td>\n",
       "      <td>€644,065</td>\n",
       "      <td>Denis Istomin</td>\n",
       "    </tr>\n",
       "  </tbody>\n",
       "</table>\n",
       "</div>"
      ],
      "text/plain": [
       "                                  title                   location  \\\n",
       "2                              Adelaide                   Adelaide   \n",
       "569            ATP Masters Series Miami                      Miami   \n",
       "276   ATP World Tour Masters 1000 Paris                      Paris   \n",
       "958                             Memphis     Memphis, United States   \n",
       "1049                         Nottingham  Nottingham, Great Britain   \n",
       "\n",
       "            date  players surface court_type       prize             winner  \n",
       "2     2000.01.03       32    Hard    Outdoor    $350,000     Lleyton Hewitt  \n",
       "569   2008.03.27       96    Hard    Outdoor  $3,770,000  Nikolay Davydenko  \n",
       "276   2003.10.27       48  Carpet     Indoor  $2,240,000         Tim Henman  \n",
       "958   2014.02.10       28    Hard     Indoor    $647,675      Kei Nishikori  \n",
       "1049  2015.06.21       48   Grass    Outdoor    €644,065      Denis Istomin  "
      ]
     },
     "execution_count": 56,
     "metadata": {},
     "output_type": "execute_result"
    }
   ],
   "source": [
    "df = pd.read_csv('tournaments_2000-2018.csv', sep=';')\n",
    "df.sample(5)"
   ]
  },
  {
   "cell_type": "code",
   "execution_count": 109,
   "metadata": {},
   "outputs": [
    {
     "data": {
      "text/html": [
       "<div>\n",
       "<style scoped>\n",
       "    .dataframe tbody tr th:only-of-type {\n",
       "        vertical-align: middle;\n",
       "    }\n",
       "\n",
       "    .dataframe tbody tr th {\n",
       "        vertical-align: top;\n",
       "    }\n",
       "\n",
       "    .dataframe thead th {\n",
       "        text-align: right;\n",
       "    }\n",
       "</style>\n",
       "<table border=\"1\" class=\"dataframe\">\n",
       "  <thead>\n",
       "    <tr style=\"text-align: right;\">\n",
       "      <th></th>\n",
       "      <th>title</th>\n",
       "      <th>location</th>\n",
       "      <th>date</th>\n",
       "      <th>players</th>\n",
       "      <th>surface</th>\n",
       "      <th>court_type</th>\n",
       "      <th>prize</th>\n",
       "      <th>winner</th>\n",
       "      <th>year</th>\n",
       "      <th>month</th>\n",
       "      <th>day</th>\n",
       "    </tr>\n",
       "  </thead>\n",
       "  <tbody>\n",
       "    <tr>\n",
       "      <th>1240</th>\n",
       "      <td>Istanbul</td>\n",
       "      <td>Istanbul, Turkey</td>\n",
       "      <td>2018.04.30</td>\n",
       "      <td>28</td>\n",
       "      <td>Clay</td>\n",
       "      <td>Outdoor</td>\n",
       "      <td>€486,145</td>\n",
       "      <td>Taro Daniel</td>\n",
       "      <td>2018</td>\n",
       "      <td>04</td>\n",
       "      <td>30</td>\n",
       "    </tr>\n",
       "    <tr>\n",
       "      <th>328</th>\n",
       "      <td>Long Island</td>\n",
       "      <td>Long Island</td>\n",
       "      <td>2004.08.23</td>\n",
       "      <td>32</td>\n",
       "      <td>Hard</td>\n",
       "      <td>Outdoor</td>\n",
       "      <td>$380,000</td>\n",
       "      <td>Lleyton Hewitt</td>\n",
       "      <td>2004</td>\n",
       "      <td>08</td>\n",
       "      <td>23</td>\n",
       "    </tr>\n",
       "    <tr>\n",
       "      <th>332</th>\n",
       "      <td>Delray Beach</td>\n",
       "      <td>Delray Beach</td>\n",
       "      <td>2004.09.13</td>\n",
       "      <td>32</td>\n",
       "      <td>Hard</td>\n",
       "      <td>Outdoor</td>\n",
       "      <td>$380,000</td>\n",
       "      <td>Ricardo Mello</td>\n",
       "      <td>2004</td>\n",
       "      <td>09</td>\n",
       "      <td>13</td>\n",
       "    </tr>\n",
       "    <tr>\n",
       "      <th>200</th>\n",
       "      <td>Moscow</td>\n",
       "      <td>Moscow</td>\n",
       "      <td>2002.09.30</td>\n",
       "      <td>32</td>\n",
       "      <td>Carpet</td>\n",
       "      <td>Indoor</td>\n",
       "      <td>$1,000,000</td>\n",
       "      <td>Paul-Henri Mathieu</td>\n",
       "      <td>2002</td>\n",
       "      <td>09</td>\n",
       "      <td>30</td>\n",
       "    </tr>\n",
       "    <tr>\n",
       "      <th>439</th>\n",
       "      <td>Casablanca</td>\n",
       "      <td>Casablanca</td>\n",
       "      <td>2006.04.24</td>\n",
       "      <td>32</td>\n",
       "      <td>Clay</td>\n",
       "      <td>Outdoor</td>\n",
       "      <td>$380,000</td>\n",
       "      <td>Daniele Bracciali</td>\n",
       "      <td>2006</td>\n",
       "      <td>04</td>\n",
       "      <td>24</td>\n",
       "    </tr>\n",
       "  </tbody>\n",
       "</table>\n",
       "</div>"
      ],
      "text/plain": [
       "             title          location        date  players surface court_type  \\\n",
       "1240      Istanbul  Istanbul, Turkey  2018.04.30       28    Clay    Outdoor   \n",
       "328    Long Island       Long Island  2004.08.23       32    Hard    Outdoor   \n",
       "332   Delray Beach      Delray Beach  2004.09.13       32    Hard    Outdoor   \n",
       "200         Moscow            Moscow  2002.09.30       32  Carpet     Indoor   \n",
       "439     Casablanca        Casablanca  2006.04.24       32    Clay    Outdoor   \n",
       "\n",
       "           prize              winner  year month day  \n",
       "1240    €486,145         Taro Daniel  2018    04  30  \n",
       "328     $380,000      Lleyton Hewitt  2004    08  23  \n",
       "332     $380,000       Ricardo Mello  2004    09  13  \n",
       "200   $1,000,000  Paul-Henri Mathieu  2002    09  30  \n",
       "439     $380,000   Daniele Bracciali  2006    04  24  "
      ]
     },
     "execution_count": 109,
     "metadata": {},
     "output_type": "execute_result"
    }
   ],
   "source": [
    "df['year'] = df.date.str[0:4]\n",
    "df['month'] = df.date.str[5:7]\n",
    "df['day'] = df.date.str[8:10]\n",
    "df.sample(5)"
   ]
  },
  {
   "cell_type": "code",
   "execution_count": 110,
   "metadata": {},
   "outputs": [
    {
     "data": {
      "text/html": [
       "<div>\n",
       "<style scoped>\n",
       "    .dataframe tbody tr th:only-of-type {\n",
       "        vertical-align: middle;\n",
       "    }\n",
       "\n",
       "    .dataframe tbody tr th {\n",
       "        vertical-align: top;\n",
       "    }\n",
       "\n",
       "    .dataframe thead th {\n",
       "        text-align: right;\n",
       "    }\n",
       "</style>\n",
       "<table border=\"1\" class=\"dataframe\">\n",
       "  <thead>\n",
       "    <tr style=\"text-align: right;\">\n",
       "      <th></th>\n",
       "      <th>title</th>\n",
       "      <th>location</th>\n",
       "      <th>date</th>\n",
       "      <th>players</th>\n",
       "      <th>surface</th>\n",
       "      <th>court_type</th>\n",
       "      <th>prize</th>\n",
       "      <th>winner</th>\n",
       "      <th>year</th>\n",
       "      <th>month</th>\n",
       "      <th>day</th>\n",
       "    </tr>\n",
       "  </thead>\n",
       "  <tbody>\n",
       "    <tr>\n",
       "      <th>852</th>\n",
       "      <td>Wimbledon</td>\n",
       "      <td>London, Great Britain</td>\n",
       "      <td>2012.06.25</td>\n",
       "      <td>128</td>\n",
       "      <td>Grass</td>\n",
       "      <td>Outdoor</td>\n",
       "      <td>£7,285,200</td>\n",
       "      <td>Roger Federer</td>\n",
       "      <td>2012</td>\n",
       "      <td>06</td>\n",
       "      <td>25</td>\n",
       "    </tr>\n",
       "    <tr>\n",
       "      <th>37</th>\n",
       "      <td>Wimbledon</td>\n",
       "      <td>London</td>\n",
       "      <td>2000.06.26</td>\n",
       "      <td>128</td>\n",
       "      <td>Grass</td>\n",
       "      <td>Outdoor</td>\n",
       "      <td>$5,564,842</td>\n",
       "      <td>Pete Sampras</td>\n",
       "      <td>2000</td>\n",
       "      <td>06</td>\n",
       "      <td>26</td>\n",
       "    </tr>\n",
       "    <tr>\n",
       "      <th>1130</th>\n",
       "      <td>US Open</td>\n",
       "      <td>New York, United States</td>\n",
       "      <td>2016.08.29</td>\n",
       "      <td>128</td>\n",
       "      <td>Hard</td>\n",
       "      <td>Outdoor</td>\n",
       "      <td>$21,862,744</td>\n",
       "      <td>Stan Wawrinka</td>\n",
       "      <td>2016</td>\n",
       "      <td>08</td>\n",
       "      <td>29</td>\n",
       "    </tr>\n",
       "    <tr>\n",
       "      <th>1245</th>\n",
       "      <td>Roland Garros</td>\n",
       "      <td>Paris, France</td>\n",
       "      <td>2018.05.27</td>\n",
       "      <td>128</td>\n",
       "      <td>Clay</td>\n",
       "      <td>Outdoor</td>\n",
       "      <td>€18,232,000</td>\n",
       "      <td>Rafael Nadal</td>\n",
       "      <td>2018</td>\n",
       "      <td>05</td>\n",
       "      <td>27</td>\n",
       "    </tr>\n",
       "    <tr>\n",
       "      <th>488</th>\n",
       "      <td>Australian Open</td>\n",
       "      <td>Melbourne</td>\n",
       "      <td>2007.01.15</td>\n",
       "      <td>128</td>\n",
       "      <td>Hard</td>\n",
       "      <td>Outdoor</td>\n",
       "      <td>$7,297,052</td>\n",
       "      <td>Roger Federer</td>\n",
       "      <td>2007</td>\n",
       "      <td>01</td>\n",
       "      <td>15</td>\n",
       "    </tr>\n",
       "  </tbody>\n",
       "</table>\n",
       "</div>"
      ],
      "text/plain": [
       "                title                 location        date  players surface  \\\n",
       "852         Wimbledon    London, Great Britain  2012.06.25      128   Grass   \n",
       "37          Wimbledon                   London  2000.06.26      128   Grass   \n",
       "1130          US Open  New York, United States  2016.08.29      128    Hard   \n",
       "1245    Roland Garros            Paris, France  2018.05.27      128    Clay   \n",
       "488   Australian Open                Melbourne  2007.01.15      128    Hard   \n",
       "\n",
       "     court_type        prize         winner  year month day  \n",
       "852     Outdoor   £7,285,200  Roger Federer  2012    06  25  \n",
       "37      Outdoor   $5,564,842   Pete Sampras  2000    06  26  \n",
       "1130    Outdoor  $21,862,744  Stan Wawrinka  2016    08  29  \n",
       "1245    Outdoor  €18,232,000   Rafael Nadal  2018    05  27  \n",
       "488     Outdoor   $7,297,052  Roger Federer  2007    01  15  "
      ]
     },
     "execution_count": 110,
     "metadata": {},
     "output_type": "execute_result"
    }
   ],
   "source": [
    "df_grandslam = df[df['players'] == 128]\n",
    "df_grandslam.sample(5)"
   ]
  },
  {
   "cell_type": "code",
   "execution_count": 117,
   "metadata": {},
   "outputs": [],
   "source": [
    "df = df[df['players'] != 128]\n",
    "df = df[df['surface'] != 'Carpet']"
   ]
  },
  {
   "cell_type": "code",
   "execution_count": 121,
   "metadata": {},
   "outputs": [
    {
     "data": {
      "text/plain": [
       "<matplotlib.axes._subplots.AxesSubplot at 0x213597c5a90>"
      ]
     },
     "execution_count": 121,
     "metadata": {},
     "output_type": "execute_result"
    },
    {
     "data": {
      "image/png": "[encoded data removed]",
      "text/plain": [
       "<Figure size 1152x576 with 1 Axes>"
      ]
     },
     "metadata": {},
     "output_type": "display_data"
    }
   ],
   "source": [
    "#Court Type\n",
    "years = df.year.value_counts()\n",
    "years.sort_index(inplace=True)\n",
    "years.plot(kind = 'bar', ylim=(50, 68), figsize=(16,8), colormap='summer')\n",
    "\n"
   ]
  },
  {
   "cell_type": "code",
   "execution_count": 126,
   "metadata": {},
   "outputs": [
    {
     "data": {
      "text/plain": [
       "<matplotlib.axes._subplots.AxesSubplot at 0x21359dfa6d8>"
      ]
     },
     "execution_count": 126,
     "metadata": {},
     "output_type": "execute_result"
    },
    {
     "data": {
      "image/png": "[encoded data removed]",
      "text/plain": [
       "<Figure size 720x720 with 1 Axes>"
      ]
     },
     "metadata": {},
     "output_type": "display_data"
    }
   ],
   "source": [
    "surface = df.surface.value_counts()\n",
    "surface.sort_index(inplace=True)\n",
    "surface.plot(kind = 'pie', figsize=(10,10))"
   ]
  },
  {
   "cell_type": "code",
   "execution_count": 128,
   "metadata": {},
   "outputs": [
    {
     "data": {
      "text/plain": [
       "<matplotlib.axes._subplots.AxesSubplot at 0x21359e30c18>"
      ]
     },
     "execution_count": 128,
     "metadata": {},
     "output_type": "execute_result"
    },
    {
     "data": {
      "image/png": "[encoded data removed]",
      "text/plain": [
       "<Figure size 720x720 with 1 Axes>"
      ]
     },
     "metadata": {},
     "output_type": "display_data"
    }
   ],
   "source": [
    "court_type = df.court_type.value_counts()\n",
    "court_type.sort_index(inplace=True)\n",
    "court_type.plot(kind = 'pie', figsize=(10,10))"
   ]
  },
  {
   "cell_type": "code",
   "execution_count": 149,
   "metadata": {},
   "outputs": [
    {
     "data": {
      "text/plain": [
       "Roger Federer     77\n",
       "Rafael Nadal      63\n",
       "Novak Djokovic    58\n",
       "Andy Murray       41\n",
       "Andy Roddick      30\n",
       "Name: winner, dtype: int64"
      ]
     },
     "execution_count": 149,
     "metadata": {},
     "output_type": "execute_result"
    }
   ],
   "source": [
    "df.winner.value_counts().head(5)"
   ]
  },
  {
   "cell_type": "code",
   "execution_count": null,
   "metadata": {},
   "outputs": [],
   "source": []
  }
 ],
 "metadata": {
  "kernelspec": {
   "display_name": "Python 3",
   "language": "python",
   "name": "python3"
  },
  "language_info": {
   "codemirror_mode": {
    "name": "ipython",
    "version": 3
   },
   "file_extension": ".py",
   "mimetype": "text/x-python",
   "name": "python",
   "nbconvert_exporter": "python",
   "pygments_lexer": "ipython3",
   "version": "3.6.5"
  }
 },
 "nbformat": 4,
 "nbformat_minor": 2
}
